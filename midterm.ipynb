{
 "cells": [
  {
   "cell_type": "markdown",
   "metadata": {
    "pycharm": {
     "name": "#%% md\n"
    }
   },
   "source": [
    "# Data Science Midterm Project\n",
    "\n",
    "## Introduction\n",
    "\n",
    "A tip is an additional amount of money given to a person that is providing a service. It's a addition to the service fee that is charged. This amount is mostly seem as a signal of gratitude and a custom in many countries.\n",
    "In some places around the world is common to tip the waiter in restaurants and cafeterias after finishing a meal. The amount of the tip can be related with the customer's check, a percentage ranging from 10%-30%. This amount is in some cases a important part of the waiter income.\n",
    " In some places tipping is an informal action based on local custom, in other countries there are laws governing how tips are given. For example, in many places it's ilegal to tip government workers and more widely police officers, what can be considered bribery.\n",
    " There are 5 motivations for tipping accordly with Michael Lynn [3]:\n",
    "- Showing off\n",
    "- To supplement the server's income and make them happy\n",
    "- For improved future service\n",
    "- To avoid disapproval from the server\n",
    "- A sense of duty\n",
    "\n",
    "Problems also arise from the practice of tipping. Some people are uncomfortable having to determine the value of a tip leading to social anxiety. In other cases, discrimination can lead to unfair differences in value, particularly in countries where tips are an important part of compensation.\n",
    "\n",
    "## Dataset\n",
    "\n",
    "The data used in this project was collected from Kaggle [2].\n",
    "It's part of a collection of case studies for business statitics [1] and it's also included in Seaborn package.\n",
    "This data was recorded by a single waiter in the same restaurant over a period of few months [2].\n",
    "As it is the data of a single waiter, the data collected refer exclusively to the restaurant's customers and their characteristics.\n",
    "The dataset contains 244 rows and 7 columns. In this study the dependent variable is the column \"tip\".\n",
    "\n",
    "### Columns and data types\n",
    "- total_bill: Bill in dollars (float number)\n",
    "- tip: Tip in dollars (float number)\n",
    "- sex: Sex of the bill payer (\"Male\" or \"Female\")\n",
    "- smoker: whether there were smokers in the party (\"Yes\" or \"No\")\n",
    "- day: day of the week (string)\n",
    "- time: time of the day (\"Dinner\" or \"Lunch\")\n",
    "- size: size of the party (integer number)\n",
    "\n",
    "\n",
    "## Objective\n",
    "\n",
    "The objective of this work is to find out which factors contribute the most to higher tips.\n",
    "We will use inference tools to evaluate the correlation between the independent variables and also the correlations with the dependent variable (\"tip\"). With this we will be able to draw a profile of a client or a group of clients that favor the increase or reduction of the value of the tips.\n",
    "We also want to use this data to be able to quantitatively predict the value of a tip based on the independent variables.\n",
    "For the prediction, we will try to find the best regression model for our problem by evaluating the model error on the training data and, most importantly, in the test data.\n",
    "We will test the prediction success of some popular regression models and assess which best represents our problem. Next, we will try to optimize the model's hyperparameters.\n",
    "\n",
    "## Dataset Table"
   ]
  },
  {
   "cell_type": "code",
   "execution_count": 231,
   "metadata": {
    "pycharm": {
     "name": "#%%\n"
    }
   },
   "outputs": [
    {
     "data": {
      "text/html": [
       "<div>\n",
       "<style scoped>\n",
       "    .dataframe tbody tr th:only-of-type {\n",
       "        vertical-align: middle;\n",
       "    }\n",
       "\n",
       "    .dataframe tbody tr th {\n",
       "        vertical-align: top;\n",
       "    }\n",
       "\n",
       "    .dataframe thead th {\n",
       "        text-align: right;\n",
       "    }\n",
       "</style>\n",
       "<table border=\"1\" class=\"dataframe\">\n",
       "  <thead>\n",
       "    <tr style=\"text-align: right;\">\n",
       "      <th></th>\n",
       "      <th>total_bill</th>\n",
       "      <th>tip</th>\n",
       "      <th>sex</th>\n",
       "      <th>smoker</th>\n",
       "      <th>day</th>\n",
       "      <th>time</th>\n",
       "      <th>size</th>\n",
       "    </tr>\n",
       "  </thead>\n",
       "  <tbody>\n",
       "    <tr>\n",
       "      <th>0</th>\n",
       "      <td>16.99</td>\n",
       "      <td>1.01</td>\n",
       "      <td>Female</td>\n",
       "      <td>No</td>\n",
       "      <td>Sun</td>\n",
       "      <td>Dinner</td>\n",
       "      <td>2</td>\n",
       "    </tr>\n",
       "    <tr>\n",
       "      <th>1</th>\n",
       "      <td>10.34</td>\n",
       "      <td>1.66</td>\n",
       "      <td>Male</td>\n",
       "      <td>No</td>\n",
       "      <td>Sun</td>\n",
       "      <td>Dinner</td>\n",
       "      <td>3</td>\n",
       "    </tr>\n",
       "    <tr>\n",
       "      <th>2</th>\n",
       "      <td>21.01</td>\n",
       "      <td>3.50</td>\n",
       "      <td>Male</td>\n",
       "      <td>No</td>\n",
       "      <td>Sun</td>\n",
       "      <td>Dinner</td>\n",
       "      <td>3</td>\n",
       "    </tr>\n",
       "    <tr>\n",
       "      <th>3</th>\n",
       "      <td>23.68</td>\n",
       "      <td>3.31</td>\n",
       "      <td>Male</td>\n",
       "      <td>No</td>\n",
       "      <td>Sun</td>\n",
       "      <td>Dinner</td>\n",
       "      <td>2</td>\n",
       "    </tr>\n",
       "    <tr>\n",
       "      <th>4</th>\n",
       "      <td>24.59</td>\n",
       "      <td>3.61</td>\n",
       "      <td>Female</td>\n",
       "      <td>No</td>\n",
       "      <td>Sun</td>\n",
       "      <td>Dinner</td>\n",
       "      <td>4</td>\n",
       "    </tr>\n",
       "    <tr>\n",
       "      <th>...</th>\n",
       "      <td>...</td>\n",
       "      <td>...</td>\n",
       "      <td>...</td>\n",
       "      <td>...</td>\n",
       "      <td>...</td>\n",
       "      <td>...</td>\n",
       "      <td>...</td>\n",
       "    </tr>\n",
       "    <tr>\n",
       "      <th>239</th>\n",
       "      <td>29.03</td>\n",
       "      <td>5.92</td>\n",
       "      <td>Male</td>\n",
       "      <td>No</td>\n",
       "      <td>Sat</td>\n",
       "      <td>Dinner</td>\n",
       "      <td>3</td>\n",
       "    </tr>\n",
       "    <tr>\n",
       "      <th>240</th>\n",
       "      <td>27.18</td>\n",
       "      <td>2.00</td>\n",
       "      <td>Female</td>\n",
       "      <td>Yes</td>\n",
       "      <td>Sat</td>\n",
       "      <td>Dinner</td>\n",
       "      <td>2</td>\n",
       "    </tr>\n",
       "    <tr>\n",
       "      <th>241</th>\n",
       "      <td>22.67</td>\n",
       "      <td>2.00</td>\n",
       "      <td>Male</td>\n",
       "      <td>Yes</td>\n",
       "      <td>Sat</td>\n",
       "      <td>Dinner</td>\n",
       "      <td>2</td>\n",
       "    </tr>\n",
       "    <tr>\n",
       "      <th>242</th>\n",
       "      <td>17.82</td>\n",
       "      <td>1.75</td>\n",
       "      <td>Male</td>\n",
       "      <td>No</td>\n",
       "      <td>Sat</td>\n",
       "      <td>Dinner</td>\n",
       "      <td>2</td>\n",
       "    </tr>\n",
       "    <tr>\n",
       "      <th>243</th>\n",
       "      <td>18.78</td>\n",
       "      <td>3.00</td>\n",
       "      <td>Female</td>\n",
       "      <td>No</td>\n",
       "      <td>Thur</td>\n",
       "      <td>Dinner</td>\n",
       "      <td>2</td>\n",
       "    </tr>\n",
       "  </tbody>\n",
       "</table>\n",
       "<p>244 rows × 7 columns</p>\n",
       "</div>"
      ],
      "text/plain": [
       "     total_bill   tip     sex smoker   day    time  size\n",
       "0         16.99  1.01  Female     No   Sun  Dinner     2\n",
       "1         10.34  1.66    Male     No   Sun  Dinner     3\n",
       "2         21.01  3.50    Male     No   Sun  Dinner     3\n",
       "3         23.68  3.31    Male     No   Sun  Dinner     2\n",
       "4         24.59  3.61  Female     No   Sun  Dinner     4\n",
       "..          ...   ...     ...    ...   ...     ...   ...\n",
       "239       29.03  5.92    Male     No   Sat  Dinner     3\n",
       "240       27.18  2.00  Female    Yes   Sat  Dinner     2\n",
       "241       22.67  2.00    Male    Yes   Sat  Dinner     2\n",
       "242       17.82  1.75    Male     No   Sat  Dinner     2\n",
       "243       18.78  3.00  Female     No  Thur  Dinner     2\n",
       "\n",
       "[244 rows x 7 columns]"
      ]
     },
     "execution_count": 231,
     "metadata": {},
     "output_type": "execute_result"
    }
   ],
   "source": [
    "import pandas as pd\n",
    "from sklearn.model_selection import train_test_split\n",
    "from sklearn.model_selection import cross_val_score\n",
    "import numpy as np\n",
    "from yellowbrick.features import Rank2D, Rank1D\n",
    "from sklearn.ensemble import RandomForestRegressor\n",
    "from sklearn.linear_model import LinearRegression, ElasticNet\n",
    "from sklearn import svm\n",
    "from yellowbrick.regressor import ResidualsPlot\n",
    "\n",
    "df = pd.read_csv('data/tips.csv')\n",
    "df"
   ]
  },
  {
   "cell_type": "markdown",
   "metadata": {
    "pycharm": {
     "name": "#%% md\n"
    }
   },
   "source": [
    "## Statistical Summary\n",
    "\n"
   ]
  },
  {
   "cell_type": "code",
   "execution_count": 232,
   "metadata": {
    "pycharm": {
     "name": "#%%\n"
    }
   },
   "outputs": [
    {
     "data": {
      "text/html": [
       "<div>\n",
       "<style scoped>\n",
       "    .dataframe tbody tr th:only-of-type {\n",
       "        vertical-align: middle;\n",
       "    }\n",
       "\n",
       "    .dataframe tbody tr th {\n",
       "        vertical-align: top;\n",
       "    }\n",
       "\n",
       "    .dataframe thead th {\n",
       "        text-align: right;\n",
       "    }\n",
       "</style>\n",
       "<table border=\"1\" class=\"dataframe\">\n",
       "  <thead>\n",
       "    <tr style=\"text-align: right;\">\n",
       "      <th></th>\n",
       "      <th>total_bill</th>\n",
       "      <th>tip</th>\n",
       "      <th>size</th>\n",
       "    </tr>\n",
       "  </thead>\n",
       "  <tbody>\n",
       "    <tr>\n",
       "      <th>count</th>\n",
       "      <td>244.000000</td>\n",
       "      <td>244.000000</td>\n",
       "      <td>244.000000</td>\n",
       "    </tr>\n",
       "    <tr>\n",
       "      <th>mean</th>\n",
       "      <td>19.785943</td>\n",
       "      <td>2.998279</td>\n",
       "      <td>2.569672</td>\n",
       "    </tr>\n",
       "    <tr>\n",
       "      <th>std</th>\n",
       "      <td>8.902412</td>\n",
       "      <td>1.383638</td>\n",
       "      <td>0.951100</td>\n",
       "    </tr>\n",
       "    <tr>\n",
       "      <th>min</th>\n",
       "      <td>3.070000</td>\n",
       "      <td>1.000000</td>\n",
       "      <td>1.000000</td>\n",
       "    </tr>\n",
       "    <tr>\n",
       "      <th>25%</th>\n",
       "      <td>13.347500</td>\n",
       "      <td>2.000000</td>\n",
       "      <td>2.000000</td>\n",
       "    </tr>\n",
       "    <tr>\n",
       "      <th>50%</th>\n",
       "      <td>17.795000</td>\n",
       "      <td>2.900000</td>\n",
       "      <td>2.000000</td>\n",
       "    </tr>\n",
       "    <tr>\n",
       "      <th>75%</th>\n",
       "      <td>24.127500</td>\n",
       "      <td>3.562500</td>\n",
       "      <td>3.000000</td>\n",
       "    </tr>\n",
       "    <tr>\n",
       "      <th>max</th>\n",
       "      <td>50.810000</td>\n",
       "      <td>10.000000</td>\n",
       "      <td>6.000000</td>\n",
       "    </tr>\n",
       "  </tbody>\n",
       "</table>\n",
       "</div>"
      ],
      "text/plain": [
       "       total_bill         tip        size\n",
       "count  244.000000  244.000000  244.000000\n",
       "mean    19.785943    2.998279    2.569672\n",
       "std      8.902412    1.383638    0.951100\n",
       "min      3.070000    1.000000    1.000000\n",
       "25%     13.347500    2.000000    2.000000\n",
       "50%     17.795000    2.900000    2.000000\n",
       "75%     24.127500    3.562500    3.000000\n",
       "max     50.810000   10.000000    6.000000"
      ]
     },
     "execution_count": 232,
     "metadata": {},
     "output_type": "execute_result"
    }
   ],
   "source": [
    "stats = df.describe()\n",
    "stats"
   ]
  },
  {
   "cell_type": "markdown",
   "metadata": {
    "pycharm": {
     "name": "#%% md\n"
    }
   },
   "source": [
    "## Density histogram\n",
    "Below we have the density histogram from the 3 numerical variables present in our dataset."
   ]
  },
  {
   "cell_type": "code",
   "execution_count": 233,
   "metadata": {
    "pycharm": {
     "name": "#%%\n"
    }
   },
   "outputs": [
    {
     "data": {
      "image/png": "[encoded data removed]",
      "text/plain": [
       "<Figure size 432x288 with 1 Axes>"
      ]
     },
     "metadata": {
      "needs_background": "light"
     },
     "output_type": "display_data"
    },
    {
     "data": {
      "image/png": "[encoded data removed]",
      "text/plain": [
       "<Figure size 432x288 with 1 Axes>"
      ]
     },
     "metadata": {
      "needs_background": "light"
     },
     "output_type": "display_data"
    },
    {
     "data": {
      "image/png": "[encoded data removed]",
      "text/plain": [
       "<Figure size 432x288 with 1 Axes>"
      ]
     },
     "metadata": {
      "needs_background": "light"
     },
     "output_type": "display_data"
    }
   ],
   "source": [
    "import matplotlib.pyplot as plt\n",
    "from scipy.stats import norm\n",
    "\n",
    "for variable in ['tip', 'total_bill', 'size']:\n",
    "    plt.hist(df[variable], density=True, bins=16, alpha=0.8, color=np.random.rand(3,))\n",
    "    x_axis = np.arange(0, 10, 0.01)\n",
    "    plt.plot(x_axis, norm.pdf(x_axis, stats[variable][\"mean\"], stats[variable][\"std\"]))\n",
    "    plt.title(variable + \" density histogram\")\n",
    "    plt.xlabel(variable + \" amount\")\n",
    "    plt.show()"
   ]
  },
  {
   "cell_type": "markdown",
   "metadata": {
    "pycharm": {
     "name": "#%% md\n"
    }
   },
   "source": [
    "## Preprocessing\n",
    "\n",
    "In order to train a model, we need to convert the columns into numerical values. The \"total_bill\", \"tip\" and \"size\" columns are already numeric but the others need to be converted, so they can contribute to the model. The \"sex\", \"smoker\" and \"time\" columns have only 2 different values, so we can represent the different values by 0 and 1. However, the \"day\" column has 4 different possibilities, from Thursday to Sunday. So in this case I'm using one hot encoding to create 4 new columns that contain the value 1 if the data point has the corresponding day of the week"
   ]
  },
  {
   "cell_type": "code",
   "execution_count": 235,
   "metadata": {
    "pycharm": {
     "name": "#%%\n"
    }
   },
   "outputs": [
    {
     "name": "stdout",
     "output_type": "stream",
     "text": [
      "** Dataframe after the pre processing **\n"
     ]
    },
    {
     "data": {
      "text/html": [
       "<div>\n",
       "<style scoped>\n",
       "    .dataframe tbody tr th:only-of-type {\n",
       "        vertical-align: middle;\n",
       "    }\n",
       "\n",
       "    .dataframe tbody tr th {\n",
       "        vertical-align: top;\n",
       "    }\n",
       "\n",
       "    .dataframe thead th {\n",
       "        text-align: right;\n",
       "    }\n",
       "</style>\n",
       "<table border=\"1\" class=\"dataframe\">\n",
       "  <thead>\n",
       "    <tr style=\"text-align: right;\">\n",
       "      <th></th>\n",
       "      <th>total_bill</th>\n",
       "      <th>sex</th>\n",
       "      <th>smoker</th>\n",
       "      <th>time</th>\n",
       "      <th>size</th>\n",
       "      <th>Fri</th>\n",
       "      <th>Sat</th>\n",
       "      <th>Sun</th>\n",
       "      <th>Thur</th>\n",
       "    </tr>\n",
       "  </thead>\n",
       "  <tbody>\n",
       "    <tr>\n",
       "      <th>0</th>\n",
       "      <td>16.99</td>\n",
       "      <td>0</td>\n",
       "      <td>0</td>\n",
       "      <td>1</td>\n",
       "      <td>2</td>\n",
       "      <td>0</td>\n",
       "      <td>0</td>\n",
       "      <td>1</td>\n",
       "      <td>0</td>\n",
       "    </tr>\n",
       "    <tr>\n",
       "      <th>1</th>\n",
       "      <td>10.34</td>\n",
       "      <td>1</td>\n",
       "      <td>0</td>\n",
       "      <td>1</td>\n",
       "      <td>3</td>\n",
       "      <td>0</td>\n",
       "      <td>0</td>\n",
       "      <td>1</td>\n",
       "      <td>0</td>\n",
       "    </tr>\n",
       "    <tr>\n",
       "      <th>2</th>\n",
       "      <td>21.01</td>\n",
       "      <td>1</td>\n",
       "      <td>0</td>\n",
       "      <td>1</td>\n",
       "      <td>3</td>\n",
       "      <td>0</td>\n",
       "      <td>0</td>\n",
       "      <td>1</td>\n",
       "      <td>0</td>\n",
       "    </tr>\n",
       "    <tr>\n",
       "      <th>3</th>\n",
       "      <td>23.68</td>\n",
       "      <td>1</td>\n",
       "      <td>0</td>\n",
       "      <td>1</td>\n",
       "      <td>2</td>\n",
       "      <td>0</td>\n",
       "      <td>0</td>\n",
       "      <td>1</td>\n",
       "      <td>0</td>\n",
       "    </tr>\n",
       "    <tr>\n",
       "      <th>4</th>\n",
       "      <td>24.59</td>\n",
       "      <td>0</td>\n",
       "      <td>0</td>\n",
       "      <td>1</td>\n",
       "      <td>4</td>\n",
       "      <td>0</td>\n",
       "      <td>0</td>\n",
       "      <td>1</td>\n",
       "      <td>0</td>\n",
       "    </tr>\n",
       "    <tr>\n",
       "      <th>...</th>\n",
       "      <td>...</td>\n",
       "      <td>...</td>\n",
       "      <td>...</td>\n",
       "      <td>...</td>\n",
       "      <td>...</td>\n",
       "      <td>...</td>\n",
       "      <td>...</td>\n",
       "      <td>...</td>\n",
       "      <td>...</td>\n",
       "    </tr>\n",
       "    <tr>\n",
       "      <th>239</th>\n",
       "      <td>29.03</td>\n",
       "      <td>1</td>\n",
       "      <td>0</td>\n",
       "      <td>1</td>\n",
       "      <td>3</td>\n",
       "      <td>0</td>\n",
       "      <td>1</td>\n",
       "      <td>0</td>\n",
       "      <td>0</td>\n",
       "    </tr>\n",
       "    <tr>\n",
       "      <th>240</th>\n",
       "      <td>27.18</td>\n",
       "      <td>0</td>\n",
       "      <td>1</td>\n",
       "      <td>1</td>\n",
       "      <td>2</td>\n",
       "      <td>0</td>\n",
       "      <td>1</td>\n",
       "      <td>0</td>\n",
       "      <td>0</td>\n",
       "    </tr>\n",
       "    <tr>\n",
       "      <th>241</th>\n",
       "      <td>22.67</td>\n",
       "      <td>1</td>\n",
       "      <td>1</td>\n",
       "      <td>1</td>\n",
       "      <td>2</td>\n",
       "      <td>0</td>\n",
       "      <td>1</td>\n",
       "      <td>0</td>\n",
       "      <td>0</td>\n",
       "    </tr>\n",
       "    <tr>\n",
       "      <th>242</th>\n",
       "      <td>17.82</td>\n",
       "      <td>1</td>\n",
       "      <td>0</td>\n",
       "      <td>1</td>\n",
       "      <td>2</td>\n",
       "      <td>0</td>\n",
       "      <td>1</td>\n",
       "      <td>0</td>\n",
       "      <td>0</td>\n",
       "    </tr>\n",
       "    <tr>\n",
       "      <th>243</th>\n",
       "      <td>18.78</td>\n",
       "      <td>0</td>\n",
       "      <td>0</td>\n",
       "      <td>1</td>\n",
       "      <td>2</td>\n",
       "      <td>0</td>\n",
       "      <td>0</td>\n",
       "      <td>0</td>\n",
       "      <td>1</td>\n",
       "    </tr>\n",
       "  </tbody>\n",
       "</table>\n",
       "<p>244 rows × 9 columns</p>\n",
       "</div>"
      ],
      "text/plain": [
       "     total_bill  sex  smoker  time  size  Fri  Sat  Sun  Thur\n",
       "0         16.99    0       0     1     2    0    0    1     0\n",
       "1         10.34    1       0     1     3    0    0    1     0\n",
       "2         21.01    1       0     1     3    0    0    1     0\n",
       "3         23.68    1       0     1     2    0    0    1     0\n",
       "4         24.59    0       0     1     4    0    0    1     0\n",
       "..          ...  ...     ...   ...   ...  ...  ...  ...   ...\n",
       "239       29.03    1       0     1     3    0    1    0     0\n",
       "240       27.18    0       1     1     2    0    1    0     0\n",
       "241       22.67    1       1     1     2    0    1    0     0\n",
       "242       17.82    1       0     1     2    0    1    0     0\n",
       "243       18.78    0       0     1     2    0    0    0     1\n",
       "\n",
       "[244 rows x 9 columns]"
      ]
     },
     "execution_count": 235,
     "metadata": {},
     "output_type": "execute_result"
    }
   ],
   "source": [
    "# Separating the target column from the rest of the columns\n",
    "target_column = \"tip\"\n",
    "y = df[target_column]\n",
    "X = df.drop(target_column, axis=1, inplace=False)\n",
    "\n",
    "descriptions = X.columns\n",
    "\n",
    "# Converting to binary values (0, 1)\n",
    "X[\"smoker\"] = [ 1 if x == \"Yes\" else 0 for x in X[\"smoker\"] ]\n",
    "X[\"time\"] = [ 1 if x == \"Dinner\" else 0 for x in X[\"time\"] ]\n",
    "X[\"sex\"] = [ 1 if x == \"Male\" else 0 for x in X[\"sex\"] ]\n",
    "\n",
    "# One-hot encoding\n",
    "days = pd.get_dummies(X[\"day\"])\n",
    "X = X.drop(\"day\", axis=1)\n",
    "X = pd.concat([X, days], axis=1)\n",
    "print(\"** Dataframe after the pre processing **\")\n",
    "X"
   ]
  },
  {
   "cell_type": "markdown",
   "metadata": {
    "pycharm": {
     "name": "#%% md\n"
    }
   },
   "source": [
    "## Correlation between variables\n",
    "\n",
    "A way to better understand the data is by calculating the correlation between the variables. This can give us interesting insights and also indicate columns that could be removed when we train the model. Independent variables with high correlation with each other can indicate a dependency between them, giving us the opportunity to remove one of them and test the model's accuracy."
   ]
  },
  {
   "cell_type": "code",
   "execution_count": 236,
   "metadata": {
    "pycharm": {
     "name": "#%%\n"
    }
   },
   "outputs": [
    {
     "data": {
      "image/png": "[encoded data removed]",
      "text/plain": [
       "<Figure size 432x288 with 2 Axes>"
      ]
     },
     "metadata": {
      "needs_background": "light"
     },
     "output_type": "display_data"
    },
    {
     "data": {
      "text/plain": [
       "<AxesSubplot:title={'center':'Covariance Ranking of 9 Features'}>"
      ]
     },
     "execution_count": 236,
     "metadata": {},
     "output_type": "execute_result"
    }
   ],
   "source": [
    "# Instantiate the visualizer with the Pearson ranking algorithm\n",
    "visualizer = Rank2D(algorithm='covariance', features=X.columns, target_column = \"tip\")\n",
    "\n",
    "visualizer.fit(X, y)           # Fit the data to the visualizer\n",
    "visualizer.transform(X)        # Transform the data\n",
    "visualizer.show()"
   ]
  },
  {
   "cell_type": "markdown",
   "metadata": {
    "pycharm": {
     "name": "#%% md\n"
    }
   },
   "source": [
    "The \"size\" and \"time\" variables have the strongest correlation with \"total_bill\"."
   ]
  },
  {
   "cell_type": "code",
   "execution_count": 237,
   "metadata": {
    "pycharm": {
     "name": "#%%\n"
    }
   },
   "outputs": [
    {
     "data": {
      "image/png": "[encoded data removed]",
      "text/plain": [
       "<Figure size 432x288 with 1 Axes>"
      ]
     },
     "metadata": {
      "needs_background": "light"
     },
     "output_type": "display_data"
    },
    {
     "data": {
      "text/plain": [
       "<AxesSubplot:title={'center':'Shapiro Ranking of 9 Features'}>"
      ]
     },
     "execution_count": 237,
     "metadata": {},
     "output_type": "execute_result"
    }
   ],
   "source": [
    "visualizer1d = Rank1D(color=\"brown\")\n",
    "visualizer1d.fit(X, y)\n",
    "visualizer1d.transform(X)\n",
    "visualizer1d.show()"
   ]
  },
  {
   "cell_type": "markdown",
   "metadata": {
    "pycharm": {
     "name": "#%% md\n"
    }
   },
   "source": [
    "The variables \"total_bill\" and \"size\" have the strongest correlation with \"tip\"."
   ]
  },
  {
   "cell_type": "markdown",
   "metadata": {
    "pycharm": {
     "name": "#%% md\n"
    }
   },
   "source": [
    "\n",
    "## Relation between Total Bill, Party Size and Tip"
   ]
  },
  {
   "cell_type": "code",
   "execution_count": 253,
   "metadata": {
    "pycharm": {
     "name": "#%%\n"
    }
   },
   "outputs": [
    {
     "data": {
      "image/png": "[encoded data removed]",
      "text/plain": [
       "<Figure size 432x288 with 1 Axes>"
      ]
     },
     "metadata": {
      "needs_background": "light"
     },
     "output_type": "display_data"
    },
    {
     "data": {
      "image/png": "[encoded data removed]",
      "text/plain": [
       "<Figure size 432x288 with 1 Axes>"
      ]
     },
     "metadata": {
      "needs_background": "light"
     },
     "output_type": "display_data"
    }
   ],
   "source": [
    "from scipy import stats\n",
    "\n",
    "def plot_lin_reg(x):\n",
    "    gradient, intercept, r_value, p_value, std_err = stats.linregress(x,y)\n",
    "    mn=np.min(x)\n",
    "    mx=np.max(x)\n",
    "    x1=np.linspace(mn,mx,500)\n",
    "    y1=gradient*x1+intercept\n",
    "    plt.plot(x1,y1,'-r')\n",
    "\n",
    "plot_lin_reg(X[\"total_bill\"])\n",
    "plt.scatter(X[\"total_bill\"], y, alpha=0.33, c=\"orange\")\n",
    "plt.xlabel(\"Total bill\")\n",
    "plt.ylabel(\"Tip amount\")\n",
    "plt.show()\n",
    "\n",
    "plot_lin_reg(X[\"size\"])\n",
    "plt.scatter(X[\"size\"], y, alpha=0.2, c=\"purple\")\n",
    "plt.xlabel(\"Party size\")\n",
    "plt.ylabel(\"Tip amount\")\n",
    "plt.show()"
   ]
  },
  {
   "cell_type": "markdown",
   "metadata": {
    "pycharm": {
     "name": "#%% md\n"
    }
   },
   "source": [
    "\n",
    "## Spliting data into train and test data"
   ]
  },
  {
   "cell_type": "code",
   "execution_count": 239,
   "metadata": {
    "pycharm": {
     "name": "#%%\n"
    }
   },
   "outputs": [
    {
     "name": "stdout",
     "output_type": "stream",
     "text": [
      "Train data size: 163, Test data size: 81\n"
     ]
    }
   ],
   "source": [
    "X_train, X_test, y_train, y_test = train_test_split(X, y, test_size=0.33, random_state=42)\n",
    "print(\"Train data size: \" + str(X_train.shape[0]) + \", Test data size: \" + str(X_test.shape[0]))"
   ]
  },
  {
   "cell_type": "markdown",
   "metadata": {
    "pycharm": {
     "name": "#%% md\n"
    }
   },
   "source": [
    "## Machine Learning\n",
    "\n",
    "### Choosing the correct model\n",
    "\n",
    "Our target variable is a scalar number, not a category. For this reason we know we need a regression model. Below I will test the R2 score for different models in order to determine which one represents our problem most significantly.\n",
    "\n",
    "### Testing four different regression models"
   ]
  },
  {
   "cell_type": "code",
   "execution_count": 240,
   "metadata": {
    "pycharm": {
     "name": "#%%\n"
    }
   },
   "outputs": [
    {
     "data": {
      "text/html": [
       "<div>\n",
       "<style scoped>\n",
       "    .dataframe tbody tr th:only-of-type {\n",
       "        vertical-align: middle;\n",
       "    }\n",
       "\n",
       "    .dataframe tbody tr th {\n",
       "        vertical-align: top;\n",
       "    }\n",
       "\n",
       "    .dataframe thead th {\n",
       "        text-align: right;\n",
       "    }\n",
       "</style>\n",
       "<table border=\"1\" class=\"dataframe\">\n",
       "  <thead>\n",
       "    <tr style=\"text-align: right;\">\n",
       "      <th></th>\n",
       "      <th>R2 Score on cross validation</th>\n",
       "    </tr>\n",
       "  </thead>\n",
       "  <tbody>\n",
       "    <tr>\n",
       "      <th>LinearRegression</th>\n",
       "      <td>0.402699</td>\n",
       "    </tr>\n",
       "    <tr>\n",
       "      <th>ElasticNet</th>\n",
       "      <td>0.403422</td>\n",
       "    </tr>\n",
       "    <tr>\n",
       "      <th>RandomForest</th>\n",
       "      <td>0.442471</td>\n",
       "    </tr>\n",
       "    <tr>\n",
       "      <th>SVM</th>\n",
       "      <td>0.338703</td>\n",
       "    </tr>\n",
       "  </tbody>\n",
       "</table>\n",
       "</div>"
      ],
      "text/plain": [
       "                  R2 Score on cross validation\n",
       "LinearRegression                      0.402699\n",
       "ElasticNet                            0.403422\n",
       "RandomForest                          0.442471\n",
       "SVM                                   0.338703"
      ]
     },
     "execution_count": 240,
     "metadata": {},
     "output_type": "execute_result"
    }
   ],
   "source": [
    "# models to be evaluated\n",
    "models = []\n",
    "models.append((\"LinearRegression\", LinearRegression()))\n",
    "models.append((\"ElasticNet\", ElasticNet(alpha=0.001)))\n",
    "models.append((\"RandomForest\", RandomForestRegressor(max_depth=2, random_state=0)))\n",
    "models.append((\"SVM\", svm.SVR()))\n",
    "\n",
    "def print_cross_val_results(models, X, y):\n",
    "    results = []\n",
    "    for name, model in models:\n",
    "        score = cross_val_score(model, X, y, scoring=\"r2\").mean()\n",
    "        results.append((name, score))\n",
    "\n",
    "    return pd.DataFrame([r[1] for r in results], index=[r[0] for r in results], columns=[\"R2 Score on cross validation\"])\n",
    "\n",
    "print_cross_val_results(models, X_train, y_train)"
   ]
  },
  {
   "cell_type": "markdown",
   "metadata": {
    "pycharm": {
     "name": "#%% md\n"
    }
   },
   "source": [
    "### Tuning hyper-parameters\n",
    "\n",
    "The Random Forest model obtained the best score. But we still have to choose which hyper parameters could give us a better result. For that I will run the R2 score calculate for different parameters of Random Forest Regressor."
   ]
  },
  {
   "cell_type": "code",
   "execution_count": 241,
   "metadata": {
    "pycharm": {
     "name": "#%%\n"
    }
   },
   "outputs": [
    {
     "data": {
      "text/html": [
       "<div>\n",
       "<style scoped>\n",
       "    .dataframe tbody tr th:only-of-type {\n",
       "        vertical-align: middle;\n",
       "    }\n",
       "\n",
       "    .dataframe tbody tr th {\n",
       "        vertical-align: top;\n",
       "    }\n",
       "\n",
       "    .dataframe thead th {\n",
       "        text-align: right;\n",
       "    }\n",
       "</style>\n",
       "<table border=\"1\" class=\"dataframe\">\n",
       "  <thead>\n",
       "    <tr style=\"text-align: right;\">\n",
       "      <th></th>\n",
       "      <th>R2 Score on cross validation</th>\n",
       "    </tr>\n",
       "  </thead>\n",
       "  <tbody>\n",
       "    <tr>\n",
       "      <th>RandomForest max_depth=2</th>\n",
       "      <td>0.442471</td>\n",
       "    </tr>\n",
       "    <tr>\n",
       "      <th>RandomForest max_depth=3</th>\n",
       "      <td>0.463845</td>\n",
       "    </tr>\n",
       "    <tr>\n",
       "      <th>RandomForest max_depth=4</th>\n",
       "      <td>0.449696</td>\n",
       "    </tr>\n",
       "    <tr>\n",
       "      <th>RandomForest max_depth=5</th>\n",
       "      <td>0.436304</td>\n",
       "    </tr>\n",
       "  </tbody>\n",
       "</table>\n",
       "</div>"
      ],
      "text/plain": [
       "                          R2 Score on cross validation\n",
       "RandomForest max_depth=2                      0.442471\n",
       "RandomForest max_depth=3                      0.463845\n",
       "RandomForest max_depth=4                      0.449696\n",
       "RandomForest max_depth=5                      0.436304"
      ]
     },
     "execution_count": 241,
     "metadata": {},
     "output_type": "execute_result"
    }
   ],
   "source": [
    "\n",
    "models = []\n",
    "# creating 4 different random forest models each one with a different depth value\n",
    "for i in range(2, 6):\n",
    "    models.append((\"RandomForest max_depth=\" + str(i), RandomForestRegressor(max_depth=i, random_state=0)))\n",
    "\n",
    "print_cross_val_results(models, X_train, y_train)"
   ]
  },
  {
   "cell_type": "markdown",
   "metadata": {
    "pycharm": {
     "name": "#%% md\n"
    }
   },
   "source": [
    "**The best result we had for the max_depth hyper-parameter was 3, with an R2 score of 0.46.**\n",
    ".\n",
    "### Training the model"
   ]
  },
  {
   "cell_type": "code",
   "execution_count": 242,
   "metadata": {
    "pycharm": {
     "name": "#%%\n"
    }
   },
   "outputs": [
    {
     "name": "stdout",
     "output_type": "stream",
     "text": [
      "R2 score on train data: 0.65%\n"
     ]
    }
   ],
   "source": [
    "model = RandomForestRegressor(max_depth=3, random_state=0)\n",
    "model.fit(X_train, y_train)\n",
    "print(\"R2 score on train data: \" + \"{:.2f}\".format(model.score(X_train, y_train)) + \"%\")"
   ]
  },
  {
   "cell_type": "code",
   "execution_count": 243,
   "metadata": {
    "pycharm": {
     "name": "#%%\n"
    }
   },
   "outputs": [
    {
     "name": "stdout",
     "output_type": "stream",
     "text": [
      "R2 score on test data: 0.31%\n"
     ]
    }
   ],
   "source": [
    "from sklearn.metrics import r2_score\n",
    "\n",
    "y_pred = model.predict(X_test)\n",
    "print(\"R2 score on test data: \" + \"{:.2f}\".format(r2_score(y_test, y_pred)) + \"%\")"
   ]
  },
  {
   "cell_type": "code",
   "execution_count": 244,
   "metadata": {
    "pycharm": {
     "name": "#%%\n"
    }
   },
   "outputs": [
    {
     "name": "stdout",
     "output_type": "stream",
     "text": [
      "MAE score on test data: 0.71\n",
      "MAPE score on test data: 0.29%\n"
     ]
    }
   ],
   "source": [
    "from sklearn.metrics import mean_absolute_error, mean_absolute_percentage_error\n",
    "print(\"MAE score on test data: \" + \"{:.2f}\".format(mean_absolute_error(y_test, y_pred)))\n",
    "print(\"MAPE score on test data: \" + \"{:.2f}\".format(mean_absolute_percentage_error(y_test, y_pred)) + \"%\")"
   ]
  },
  {
   "cell_type": "markdown",
   "metadata": {
    "pycharm": {
     "name": "#%% md\n"
    }
   },
   "source": [
    "### Evaluating residuals"
   ]
  },
  {
   "cell_type": "code",
   "execution_count": 245,
   "metadata": {
    "pycharm": {
     "name": "#%%\n"
    }
   },
   "outputs": [
    {
     "name": "stderr",
     "output_type": "stream",
     "text": [
      "C:\\Users\\bruno\\Code\\bsc\\data-science-midterm\\venv\\lib\\site-packages\\sklearn\\base.py:450: UserWarning: X does not have valid feature names, but RandomForestRegressor was fitted with feature names\n",
      "  warnings.warn(\n"
     ]
    },
    {
     "data": {
      "image/png": "[encoded data removed]",
      "text/plain": [
       "<Figure size 432x288 with 2 Axes>"
      ]
     },
     "metadata": {
      "needs_background": "light"
     },
     "output_type": "display_data"
    },
    {
     "data": {
      "text/plain": [
       "<AxesSubplot:title={'center':'Residuals for RandomForestRegressor Model'}, xlabel='Predicted Value', ylabel='Residuals'>"
      ]
     },
     "execution_count": 245,
     "metadata": {},
     "output_type": "execute_result"
    }
   ],
   "source": [
    "visualizer_residuals = ResidualsPlot(model)\n",
    "visualizer_residuals.fit(X_test, y_test)\n",
    "visualizer_residuals.show()"
   ]
  },
  {
   "cell_type": "markdown",
   "metadata": {
    "pycharm": {
     "name": "#%% md\n"
    }
   },
   "source": [
    "### Feature importance"
   ]
  },
  {
   "cell_type": "code",
   "execution_count": 246,
   "metadata": {
    "pycharm": {
     "name": "#%%\n"
    }
   },
   "outputs": [
    {
     "data": {
      "text/html": [
       "<div>\n",
       "<style scoped>\n",
       "    .dataframe tbody tr th:only-of-type {\n",
       "        vertical-align: middle;\n",
       "    }\n",
       "\n",
       "    .dataframe tbody tr th {\n",
       "        vertical-align: top;\n",
       "    }\n",
       "\n",
       "    .dataframe thead th {\n",
       "        text-align: right;\n",
       "    }\n",
       "</style>\n",
       "<table border=\"1\" class=\"dataframe\">\n",
       "  <thead>\n",
       "    <tr style=\"text-align: right;\">\n",
       "      <th></th>\n",
       "      <th>0</th>\n",
       "    </tr>\n",
       "  </thead>\n",
       "  <tbody>\n",
       "    <tr>\n",
       "      <th>total_bill</th>\n",
       "      <td>0.859626</td>\n",
       "    </tr>\n",
       "    <tr>\n",
       "      <th>size</th>\n",
       "      <td>0.094183</td>\n",
       "    </tr>\n",
       "    <tr>\n",
       "      <th>smoker</th>\n",
       "      <td>0.024162</td>\n",
       "    </tr>\n",
       "    <tr>\n",
       "      <th>Sat</th>\n",
       "      <td>0.008831</td>\n",
       "    </tr>\n",
       "    <tr>\n",
       "      <th>sex</th>\n",
       "      <td>0.005878</td>\n",
       "    </tr>\n",
       "    <tr>\n",
       "      <th>Fri</th>\n",
       "      <td>0.002210</td>\n",
       "    </tr>\n",
       "    <tr>\n",
       "      <th>time</th>\n",
       "      <td>0.002174</td>\n",
       "    </tr>\n",
       "    <tr>\n",
       "      <th>Sun</th>\n",
       "      <td>0.002149</td>\n",
       "    </tr>\n",
       "    <tr>\n",
       "      <th>Thur</th>\n",
       "      <td>0.000787</td>\n",
       "    </tr>\n",
       "  </tbody>\n",
       "</table>\n",
       "</div>"
      ],
      "text/plain": [
       "                   0\n",
       "total_bill  0.859626\n",
       "size        0.094183\n",
       "smoker      0.024162\n",
       "Sat         0.008831\n",
       "sex         0.005878\n",
       "Fri         0.002210\n",
       "time        0.002174\n",
       "Sun         0.002149\n",
       "Thur        0.000787"
      ]
     },
     "execution_count": 246,
     "metadata": {},
     "output_type": "execute_result"
    }
   ],
   "source": [
    "pd.DataFrame(model.feature_importances_, index=X.columns).sort_values(0, ascending=False)"
   ]
  },
  {
   "cell_type": "code",
   "execution_count": 247,
   "metadata": {
    "pycharm": {
     "name": "#%%\n"
    }
   },
   "outputs": [
    {
     "data": {
      "image/png": "[encoded data removed]",
      "text/plain": [
       "<Figure size 432x288 with 1 Axes>"
      ]
     },
     "metadata": {
      "needs_background": "light"
     },
     "output_type": "display_data"
    }
   ],
   "source": [
    "fig, ax = plt.subplots()\n",
    "forest_importances = pd.Series(model.feature_importances_, index=X.columns)\n",
    "std = np.std([tree.feature_importances_ for tree in model.estimators_], axis=0)\n",
    "forest_importances.plot.bar(yerr=std, ax=ax)\n",
    "ax.set_title(\"Feature importances using MDI\")\n",
    "ax.set_ylabel(\"Mean decrease in impurity\")\n",
    "fig.tight_layout()"
   ]
  },
  {
   "cell_type": "markdown",
   "metadata": {
    "pycharm": {
     "name": "#%% md\n"
    }
   },
   "source": [
    "## Conclusions\n",
    "\n",
    "### Results of the ML model\n",
    "\n",
    "The final regression model gave us a R2 score of 0.31% when evaluated against the test data. Because it's in between the 0-1 range we conclude that this model is better than a horizontal hyperplane defined by the mean values.\n",
    "The MAE of 0.71 indicates that the average error of the model predictions is equal to 0.71 which is acceptable as the tip mean is equal to 3. Also, by looking the feature importance values we extracted from the model, we see that having the total_bill and the size columns as the most important variables fits the common sense.\n",
    "By analysing the residuals graph, we have the residuals' distribution with most of the mass around 0 which validates that our model is appropriate to represent the data.\n",
    "\n",
    "### Project evaluation and results\n",
    "\n",
    "The first step of the project was to understand the data we have at hand. Using statistical functions like the mean and standard deviation, we could understand the quantities we are dealing with. The \"tip\" density histogram served as an additional step in this understanding so that we could evaluate how the dependent variable \"tip\" behaves within the samples we are using.\n",
    "Then we use preprocessing methods to transform category variables into numerical values so we could use more quantitative tools at our disposal and have more data to train the Machine Learning model.\n",
    "We also analyzed how each variable relates to each other using the covariance algorithm. This analysis aims to identify whether we have independent variables that are actually dependent on each other and could negatively impact the training of the model. We could also get a sense of which variables are most strongly correlated with \"tip\" and check later in the final model if these variables really contribute the most, or we made some mistake along the way.\n",
    "Because we have means of objectively evaluating the outcome of models, we were able to test different models and compare the error. Even more, we could evaluate hyperparameters like \"depth\" in the random forest model in order to obtain the model parameters that could give us the best results in our dataset.\n",
    "Finally, we analysed the feature importance coeficients to understand what variable contributes most to change the tip.\n",
    "\n",
    "### Further study\n",
    "\n",
    "A second step in this study could use a dataset that contains data from multiple waiters with additional information such as waiter's gender, race, age. In this way, we could infer whether discriminating factors could collaborate to increase or decrease tips.\n",
    "\n"
   ]
  },
  {
   "cell_type": "markdown",
   "metadata": {
    "pycharm": {
     "name": "#%% md\n"
    }
   },
   "source": [
    "## Reference\n",
    "- [1] Bryant, P. G. and Smith, M (1995) Practical Data Analysis: Case Studies in Business Statistics. Homewood, IL: Richard D. Irwin Publishing\n",
    "- [2] Amini, Z. (2021, August 26). Tips Dataset. Kaggle. Retrieved June 11, 2022, from https://www.kaggle.com/datasets/aminizahra/tips-dataset\n",
    "- [3] Saltzman, M., &amp; Melker, S. de. (2016, March 26). Why do we tip? PBS. Retrieved June 11, 2022, from https://www.pbs.org/newshour/economy/why-do-we-tip"
   ]
  }
 ],
 "metadata": {
  "kernelspec": {
   "display_name": "Python 3 (ipykernel)",
   "language": "python",
   "name": "python3"
  },
  "language_info": {
   "codemirror_mode": {
    "name": "ipython",
    "version": 3
   },
   "file_extension": ".py",
   "mimetype": "text/x-python",
   "name": "python",
   "nbconvert_exporter": "python",
   "pygments_lexer": "ipython3",
   "version": "3.9.10"
  }
 },
 "nbformat": 4,
 "nbformat_minor": 1
}