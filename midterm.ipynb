{
 "cells": [
  {
   "cell_type": "markdown",
   "source": [
    "# Data Science Midterm Project\n",
    "\n",
    "## Introduction\n",
    "\n",
    "In some countries it is common to tip the waiter in restaurants and cafeterias after finishing the meal. In some places tipping is an informal action based on local custom, in other countries there are laws governing how tips are given.\n",
    "\n",
    "## Dataset\n",
    "\n",
    "The data used in this project was collected from Kaggle [2].\n",
    "It's part of a collection of case studies for business statitics [1] and it's also included in Seaborn package.\n",
    "This data was recorded by a single waiter in the same restaurant over a period of few months [2].\n",
    "\n",
    "### Columns and data types\n",
    "- total_bill: Bill in dollars (float number)\n",
    "- tip: Tip in dollars (float number)\n",
    "- sex: Sex of the bill payer (\"Male\" or \"Female\")\n",
    "- smoker: whether there were smokers in the party (\"Yes\" or \"No\")\n",
    "- day: day of the week (string)\n",
    "- time: time of the day (\"Dinner\" or \"Lunch\")\n",
    "- size: size of the party (integer number)\n",
    "\n",
    "\n",
    "## Objective\n",
    "\n",
    "The objective of this work is to find out which factors contribute the most to higher tips.\n",
    "We also want to use this data to be able to quantitatively predict the value of a tip based on the independent variables.\n",
    "For the prediction, we will try to find the best regression model for our problem by evaluating the model error on the training data and, most importantly, in the test data.\n",
    "\n",
    "## Table"
   ],
   "metadata": {
    "collapsed": false,
    "pycharm": {
     "name": "#%% md\n"
    }
   }
  },
  {
   "cell_type": "code",
   "execution_count": 31,
   "outputs": [
    {
     "data": {
      "text/plain": "     total_bill   tip     sex smoker   day    time  size\n0         16.99  1.01  Female     No   Sun  Dinner     2\n1         10.34  1.66    Male     No   Sun  Dinner     3\n2         21.01  3.50    Male     No   Sun  Dinner     3\n3         23.68  3.31    Male     No   Sun  Dinner     2\n4         24.59  3.61  Female     No   Sun  Dinner     4\n..          ...   ...     ...    ...   ...     ...   ...\n239       29.03  5.92    Male     No   Sat  Dinner     3\n240       27.18  2.00  Female    Yes   Sat  Dinner     2\n241       22.67  2.00    Male    Yes   Sat  Dinner     2\n242       17.82  1.75    Male     No   Sat  Dinner     2\n243       18.78  3.00  Female     No  Thur  Dinner     2\n\n[244 rows x 7 columns]",
      "text/html": "<div>\n<style scoped>\n    .dataframe tbody tr th:only-of-type {\n        vertical-align: middle;\n    }\n\n    .dataframe tbody tr th {\n        vertical-align: top;\n    }\n\n    .dataframe thead th {\n        text-align: right;\n    }\n</style>\n<table border=\"1\" class=\"dataframe\">\n  <thead>\n    <tr style=\"text-align: right;\">\n      <th></th>\n      <th>total_bill</th>\n      <th>tip</th>\n      <th>sex</th>\n      <th>smoker</th>\n      <th>day</th>\n      <th>time</th>\n      <th>size</th>\n    </tr>\n  </thead>\n  <tbody>\n    <tr>\n      <th>0</th>\n      <td>16.99</td>\n      <td>1.01</td>\n      <td>Female</td>\n      <td>No</td>\n      <td>Sun</td>\n      <td>Dinner</td>\n      <td>2</td>\n    </tr>\n    <tr>\n      <th>1</th>\n      <td>10.34</td>\n      <td>1.66</td>\n      <td>Male</td>\n      <td>No</td>\n      <td>Sun</td>\n      <td>Dinner</td>\n      <td>3</td>\n    </tr>\n    <tr>\n      <th>2</th>\n      <td>21.01</td>\n      <td>3.50</td>\n      <td>Male</td>\n      <td>No</td>\n      <td>Sun</td>\n      <td>Dinner</td>\n      <td>3</td>\n    </tr>\n    <tr>\n      <th>3</th>\n      <td>23.68</td>\n      <td>3.31</td>\n      <td>Male</td>\n      <td>No</td>\n      <td>Sun</td>\n      <td>Dinner</td>\n      <td>2</td>\n    </tr>\n    <tr>\n      <th>4</th>\n      <td>24.59</td>\n      <td>3.61</td>\n      <td>Female</td>\n      <td>No</td>\n      <td>Sun</td>\n      <td>Dinner</td>\n      <td>4</td>\n    </tr>\n    <tr>\n      <th>...</th>\n      <td>...</td>\n      <td>...</td>\n      <td>...</td>\n      <td>...</td>\n      <td>...</td>\n      <td>...</td>\n      <td>...</td>\n    </tr>\n    <tr>\n      <th>239</th>\n      <td>29.03</td>\n      <td>5.92</td>\n      <td>Male</td>\n      <td>No</td>\n      <td>Sat</td>\n      <td>Dinner</td>\n      <td>3</td>\n    </tr>\n    <tr>\n      <th>240</th>\n      <td>27.18</td>\n      <td>2.00</td>\n      <td>Female</td>\n      <td>Yes</td>\n      <td>Sat</td>\n      <td>Dinner</td>\n      <td>2</td>\n    </tr>\n    <tr>\n      <th>241</th>\n      <td>22.67</td>\n      <td>2.00</td>\n      <td>Male</td>\n      <td>Yes</td>\n      <td>Sat</td>\n      <td>Dinner</td>\n      <td>2</td>\n    </tr>\n    <tr>\n      <th>242</th>\n      <td>17.82</td>\n      <td>1.75</td>\n      <td>Male</td>\n      <td>No</td>\n      <td>Sat</td>\n      <td>Dinner</td>\n      <td>2</td>\n    </tr>\n    <tr>\n      <th>243</th>\n      <td>18.78</td>\n      <td>3.00</td>\n      <td>Female</td>\n      <td>No</td>\n      <td>Thur</td>\n      <td>Dinner</td>\n      <td>2</td>\n    </tr>\n  </tbody>\n</table>\n<p>244 rows × 7 columns</p>\n</div>"
     },
     "execution_count": 31,
     "metadata": {},
     "output_type": "execute_result"
    }
   ],
   "source": [
    "import pandas as pd\n",
    "from sklearn.ensemble import RandomForestClassifier\n",
    "from sklearn.model_selection import train_test_split\n",
    "from sklearn.model_selection import cross_val_score\n",
    "import numpy as np\n",
    "from yellowbrick.features import Rank2D\n",
    "from sklearn.ensemble import RandomForestRegressor\n",
    "from sklearn.linear_model import Lars, Ridge, LinearRegression, ElasticNet, Lasso\n",
    "from yellowbrick.regressor import ResidualsPlot\n",
    "from scipy.stats import norm\n",
    "import statistics\n",
    "\n",
    "df = pd.read_csv('data/tips.csv')\n",
    "df"
   ],
   "metadata": {
    "collapsed": false,
    "pycharm": {
     "name": "#%%\n"
    }
   }
  },
  {
   "cell_type": "markdown",
   "source": [
    "## Statistical Summary\n",
    "\n"
   ],
   "metadata": {
    "collapsed": false,
    "pycharm": {
     "name": "#%% md\n"
    }
   }
  },
  {
   "cell_type": "code",
   "execution_count": 32,
   "outputs": [
    {
     "data": {
      "text/plain": "       total_bill         tip        size\ncount  244.000000  244.000000  244.000000\nmean    19.785943    2.998279    2.569672\nstd      8.902412    1.383638    0.951100\nmin      3.070000    1.000000    1.000000\n25%     13.347500    2.000000    2.000000\n50%     17.795000    2.900000    2.000000\n75%     24.127500    3.562500    3.000000\nmax     50.810000   10.000000    6.000000",
      "text/html": "<div>\n<style scoped>\n    .dataframe tbody tr th:only-of-type {\n        vertical-align: middle;\n    }\n\n    .dataframe tbody tr th {\n        vertical-align: top;\n    }\n\n    .dataframe thead th {\n        text-align: right;\n    }\n</style>\n<table border=\"1\" class=\"dataframe\">\n  <thead>\n    <tr style=\"text-align: right;\">\n      <th></th>\n      <th>total_bill</th>\n      <th>tip</th>\n      <th>size</th>\n    </tr>\n  </thead>\n  <tbody>\n    <tr>\n      <th>count</th>\n      <td>244.000000</td>\n      <td>244.000000</td>\n      <td>244.000000</td>\n    </tr>\n    <tr>\n      <th>mean</th>\n      <td>19.785943</td>\n      <td>2.998279</td>\n      <td>2.569672</td>\n    </tr>\n    <tr>\n      <th>std</th>\n      <td>8.902412</td>\n      <td>1.383638</td>\n      <td>0.951100</td>\n    </tr>\n    <tr>\n      <th>min</th>\n      <td>3.070000</td>\n      <td>1.000000</td>\n      <td>1.000000</td>\n    </tr>\n    <tr>\n      <th>25%</th>\n      <td>13.347500</td>\n      <td>2.000000</td>\n      <td>2.000000</td>\n    </tr>\n    <tr>\n      <th>50%</th>\n      <td>17.795000</td>\n      <td>2.900000</td>\n      <td>2.000000</td>\n    </tr>\n    <tr>\n      <th>75%</th>\n      <td>24.127500</td>\n      <td>3.562500</td>\n      <td>3.000000</td>\n    </tr>\n    <tr>\n      <th>max</th>\n      <td>50.810000</td>\n      <td>10.000000</td>\n      <td>6.000000</td>\n    </tr>\n  </tbody>\n</table>\n</div>"
     },
     "execution_count": 32,
     "metadata": {},
     "output_type": "execute_result"
    }
   ],
   "source": [
    "stats = df.describe()\n",
    "stats"
   ],
   "metadata": {
    "collapsed": false,
    "pycharm": {
     "name": "#%%\n"
    }
   }
  },
  {
   "cell_type": "markdown",
   "source": [
    "## Tip density histogram\n",
    "Below we have a visualization of the tip's distribution density."
   ],
   "metadata": {
    "collapsed": false,
    "pycharm": {
     "name": "#%% md\n"
    }
   }
  },
  {
   "cell_type": "code",
   "execution_count": 33,
   "outputs": [
    {
     "data": {
      "text/plain": "<Figure size 432x288 with 1 Axes>",
      "image/png": "[encoded data removed]"
     },
     "metadata": {
      "needs_background": "light"
     },
     "output_type": "display_data"
    }
   ],
   "source": [
    "import matplotlib.pyplot as plt\n",
    "plt.hist(df[\"tip\"], density=True, bins=16, color=\"green\", alpha=0.8)\n",
    "x_axis = np.arange(0, 10, 0.01)\n",
    "plt.plot(x_axis, norm.pdf(x_axis, stats[\"tip\"][\"mean\"], stats[\"tip\"][\"std\"]))\n",
    "plt.title(\"Tip density histogram\")\n",
    "plt.xlabel(\"Tip amount in dollars\")\n",
    "\n",
    "plt.show()"
   ],
   "metadata": {
    "collapsed": false,
    "pycharm": {
     "name": "#%%\n"
    }
   }
  },
  {
   "cell_type": "markdown",
   "source": [
    "## Preprocessing\n",
    "\n",
    "In order to be able to analyze the data by training a model, we need to convert the columns into numerical values. The \"total_bill\", \"tip\" and \"size\" columns are already numeric but the others need to be converted so they can contribute to the model. The \"sex\", \"smoker\" and \"time\" columns have only 2 different values, so we can represent the different values by 0 and 1. However, the \"day\" column has 4 different possibilities, from Thursday to Sunday. So in this case I'm using one hot encoding to create 4 new columns that contain the value 1 if the data point has the corresponding day of the week"
   ],
   "metadata": {
    "collapsed": false,
    "pycharm": {
     "name": "#%% md\n"
    }
   }
  },
  {
   "cell_type": "code",
   "execution_count": 34,
   "outputs": [
    {
     "name": "stdout",
     "output_type": "stream",
     "text": [
      "** Dataframe after the pre processing **\n"
     ]
    },
    {
     "data": {
      "text/plain": "     total_bill  sex  smoker  time  size  Fri  Sat  Sun  Thur\n0         16.99    0       0     1     2    0    0    1     0\n1         10.34    1       0     1     3    0    0    1     0\n2         21.01    1       0     1     3    0    0    1     0\n3         23.68    1       0     1     2    0    0    1     0\n4         24.59    0       0     1     4    0    0    1     0\n..          ...  ...     ...   ...   ...  ...  ...  ...   ...\n239       29.03    1       0     1     3    0    1    0     0\n240       27.18    0       1     1     2    0    1    0     0\n241       22.67    1       1     1     2    0    1    0     0\n242       17.82    1       0     1     2    0    1    0     0\n243       18.78    0       0     1     2    0    0    0     1\n\n[244 rows x 9 columns]",
      "text/html": "<div>\n<style scoped>\n    .dataframe tbody tr th:only-of-type {\n        vertical-align: middle;\n    }\n\n    .dataframe tbody tr th {\n        vertical-align: top;\n    }\n\n    .dataframe thead th {\n        text-align: right;\n    }\n</style>\n<table border=\"1\" class=\"dataframe\">\n  <thead>\n    <tr style=\"text-align: right;\">\n      <th></th>\n      <th>total_bill</th>\n      <th>sex</th>\n      <th>smoker</th>\n      <th>time</th>\n      <th>size</th>\n      <th>Fri</th>\n      <th>Sat</th>\n      <th>Sun</th>\n      <th>Thur</th>\n    </tr>\n  </thead>\n  <tbody>\n    <tr>\n      <th>0</th>\n      <td>16.99</td>\n      <td>0</td>\n      <td>0</td>\n      <td>1</td>\n      <td>2</td>\n      <td>0</td>\n      <td>0</td>\n      <td>1</td>\n      <td>0</td>\n    </tr>\n    <tr>\n      <th>1</th>\n      <td>10.34</td>\n      <td>1</td>\n      <td>0</td>\n      <td>1</td>\n      <td>3</td>\n      <td>0</td>\n      <td>0</td>\n      <td>1</td>\n      <td>0</td>\n    </tr>\n    <tr>\n      <th>2</th>\n      <td>21.01</td>\n      <td>1</td>\n      <td>0</td>\n      <td>1</td>\n      <td>3</td>\n      <td>0</td>\n      <td>0</td>\n      <td>1</td>\n      <td>0</td>\n    </tr>\n    <tr>\n      <th>3</th>\n      <td>23.68</td>\n      <td>1</td>\n      <td>0</td>\n      <td>1</td>\n      <td>2</td>\n      <td>0</td>\n      <td>0</td>\n      <td>1</td>\n      <td>0</td>\n    </tr>\n    <tr>\n      <th>4</th>\n      <td>24.59</td>\n      <td>0</td>\n      <td>0</td>\n      <td>1</td>\n      <td>4</td>\n      <td>0</td>\n      <td>0</td>\n      <td>1</td>\n      <td>0</td>\n    </tr>\n    <tr>\n      <th>...</th>\n      <td>...</td>\n      <td>...</td>\n      <td>...</td>\n      <td>...</td>\n      <td>...</td>\n      <td>...</td>\n      <td>...</td>\n      <td>...</td>\n      <td>...</td>\n    </tr>\n    <tr>\n      <th>239</th>\n      <td>29.03</td>\n      <td>1</td>\n      <td>0</td>\n      <td>1</td>\n      <td>3</td>\n      <td>0</td>\n      <td>1</td>\n      <td>0</td>\n      <td>0</td>\n    </tr>\n    <tr>\n      <th>240</th>\n      <td>27.18</td>\n      <td>0</td>\n      <td>1</td>\n      <td>1</td>\n      <td>2</td>\n      <td>0</td>\n      <td>1</td>\n      <td>0</td>\n      <td>0</td>\n    </tr>\n    <tr>\n      <th>241</th>\n      <td>22.67</td>\n      <td>1</td>\n      <td>1</td>\n      <td>1</td>\n      <td>2</td>\n      <td>0</td>\n      <td>1</td>\n      <td>0</td>\n      <td>0</td>\n    </tr>\n    <tr>\n      <th>242</th>\n      <td>17.82</td>\n      <td>1</td>\n      <td>0</td>\n      <td>1</td>\n      <td>2</td>\n      <td>0</td>\n      <td>1</td>\n      <td>0</td>\n      <td>0</td>\n    </tr>\n    <tr>\n      <th>243</th>\n      <td>18.78</td>\n      <td>0</td>\n      <td>0</td>\n      <td>1</td>\n      <td>2</td>\n      <td>0</td>\n      <td>0</td>\n      <td>0</td>\n      <td>1</td>\n    </tr>\n  </tbody>\n</table>\n<p>244 rows × 9 columns</p>\n</div>"
     },
     "execution_count": 34,
     "metadata": {},
     "output_type": "execute_result"
    }
   ],
   "source": [
    "# Separating the target column from the rest of the columns\n",
    "target_column = \"tip\"\n",
    "y = df[target_column]\n",
    "X = df.drop(target_column, axis=1, inplace=False)\n",
    "\n",
    "descriptions = X.columns\n",
    "\n",
    "# Converting to binary values (0, 1)\n",
    "X[\"smoker\"] = [ 1 if x == \"Yes\" else 0 for x in X[\"smoker\"] ]\n",
    "X[\"time\"] = [ 1 if x == \"Dinner\" else 0 for x in X[\"time\"] ]\n",
    "X[\"sex\"] = [ 1 if x == \"Male\" else 0 for x in X[\"sex\"] ]\n",
    "\n",
    "# One-hot encoding\n",
    "days = pd.get_dummies(X[\"day\"])\n",
    "X = X.drop(\"day\", axis=1)\n",
    "X = pd.concat([X, days], axis=1)\n",
    "print(\"** Dataframe after the pre processing **\")\n",
    "X"
   ],
   "metadata": {
    "collapsed": false,
    "pycharm": {
     "name": "#%%\n"
    }
   }
  },
  {
   "cell_type": "markdown",
   "source": [
    "## Correlation between variables\n",
    "\n",
    "A way to better understand the data is by calculating the correlation between the variables. This can give us interesting insights and also indicate columns that could be removed when we train the model. Independent variables with high correlation with each other can indicate a dependency between them, giving us the opportunity to remove one of them and test the model's accuracy."
   ],
   "metadata": {
    "collapsed": false,
    "pycharm": {
     "name": "#%% md\n"
    }
   }
  },
  {
   "cell_type": "code",
   "execution_count": 35,
   "outputs": [
    {
     "data": {
      "text/plain": "<Figure size 432x288 with 2 Axes>",
      "image/png": "[encoded data removed]"
     },
     "metadata": {
      "needs_background": "light"
     },
     "output_type": "display_data"
    },
    {
     "data": {
      "text/plain": "<AxesSubplot:title={'center':'Covariance Ranking of 9 Features'}>"
     },
     "execution_count": 35,
     "metadata": {},
     "output_type": "execute_result"
    }
   ],
   "source": [
    "# Instantiate the visualizer with the Pearson ranking algorithm\n",
    "visualizer = Rank2D(algorithm='covariance', features=X.columns)\n",
    "\n",
    "visualizer.fit(X, y)           # Fit the data to the visualizer\n",
    "visualizer.transform(X)        # Transform the data\n",
    "visualizer.show()"
   ],
   "metadata": {
    "collapsed": false,
    "pycharm": {
     "name": "#%%\n"
    }
   }
  },
  {
   "cell_type": "code",
   "execution_count": 36,
   "outputs": [
    {
     "data": {
      "text/plain": "(1467, 163)"
     },
     "execution_count": 36,
     "metadata": {},
     "output_type": "execute_result"
    }
   ],
   "source": [
    "X_train, X_test, y_train, y_test = train_test_split(X, y, test_size=0.33, random_state=42)\n",
    "X_train.size, y_train.size"
   ],
   "metadata": {
    "collapsed": false,
    "pycharm": {
     "name": "#%%\n"
    }
   }
  },
  {
   "cell_type": "markdown",
   "source": [
    "By analysing the graph above we see that the independent variables do not have a strong correlation between then.\n",
    "Also, the graph indicates that the two independent variables that has stronger correlation with the tips are size and time."
   ],
   "metadata": {
    "collapsed": false,
    "pycharm": {
     "name": "#%% md\n"
    }
   }
  },
  {
   "cell_type": "markdown",
   "source": [
    "## Choosing the correct model\n",
    "\n",
    "Our target variable is a scalar number, not a category. For this reason we know we need a regression model. Below I will test the R2 score for different models in order to determine which one represents our problem most significantly.\n",
    ".\n",
    "### Testing three different regression models"
   ],
   "metadata": {
    "collapsed": false,
    "pycharm": {
     "name": "#%% md\n"
    }
   }
  },
  {
   "cell_type": "code",
   "execution_count": 37,
   "outputs": [
    {
     "data": {
      "text/plain": "                  R2 Score on cross validation\nLinearRegression                      0.402699\nElasticNet                            0.403422\nRandomForest                          0.442471",
      "text/html": "<div>\n<style scoped>\n    .dataframe tbody tr th:only-of-type {\n        vertical-align: middle;\n    }\n\n    .dataframe tbody tr th {\n        vertical-align: top;\n    }\n\n    .dataframe thead th {\n        text-align: right;\n    }\n</style>\n<table border=\"1\" class=\"dataframe\">\n  <thead>\n    <tr style=\"text-align: right;\">\n      <th></th>\n      <th>R2 Score on cross validation</th>\n    </tr>\n  </thead>\n  <tbody>\n    <tr>\n      <th>LinearRegression</th>\n      <td>0.402699</td>\n    </tr>\n    <tr>\n      <th>ElasticNet</th>\n      <td>0.403422</td>\n    </tr>\n    <tr>\n      <th>RandomForest</th>\n      <td>0.442471</td>\n    </tr>\n  </tbody>\n</table>\n</div>"
     },
     "execution_count": 37,
     "metadata": {},
     "output_type": "execute_result"
    }
   ],
   "source": [
    "models = []\n",
    "models.append((\"LinearRegression\", LinearRegression()))\n",
    "models.append((\"ElasticNet\", ElasticNet(alpha=0.001)))\n",
    "models.append((\"RandomForest\", RandomForestRegressor(max_depth=2, random_state=0)))\n",
    "\n",
    "def print_cross_val_results(models, X, y):\n",
    "    results = []\n",
    "    for name, model in models:\n",
    "        score = cross_val_score(model, X, y, scoring=\"r2\").mean()\n",
    "        results.append((name, score))\n",
    "\n",
    "    return pd.DataFrame([r[1] for r in results], index=[r[0] for r in results], columns=[\"R2 Score on cross validation\"])\n",
    "\n",
    "print_cross_val_results(models, X_train, y_train)"
   ],
   "metadata": {
    "collapsed": false,
    "pycharm": {
     "name": "#%%\n"
    }
   }
  },
  {
   "cell_type": "markdown",
   "source": [
    "### Tuning hyper-parameters\n",
    "\n",
    "The Random Forest model obtained the best score. But we still have to choose which hyper parameters could give us a better result. For that I will run the R2 score calculate for different parameters of Random Forest Regressor."
   ],
   "metadata": {
    "collapsed": false,
    "pycharm": {
     "name": "#%% md\n"
    }
   }
  },
  {
   "cell_type": "code",
   "execution_count": 38,
   "outputs": [
    {
     "data": {
      "text/plain": "                          R2 Score on cross validation\nRandomForest max_depth=2                      0.442471\nRandomForest max_depth=3                      0.463845\nRandomForest max_depth=4                      0.449696\nRandomForest max_depth=5                      0.436304",
      "text/html": "<div>\n<style scoped>\n    .dataframe tbody tr th:only-of-type {\n        vertical-align: middle;\n    }\n\n    .dataframe tbody tr th {\n        vertical-align: top;\n    }\n\n    .dataframe thead th {\n        text-align: right;\n    }\n</style>\n<table border=\"1\" class=\"dataframe\">\n  <thead>\n    <tr style=\"text-align: right;\">\n      <th></th>\n      <th>R2 Score on cross validation</th>\n    </tr>\n  </thead>\n  <tbody>\n    <tr>\n      <th>RandomForest max_depth=2</th>\n      <td>0.442471</td>\n    </tr>\n    <tr>\n      <th>RandomForest max_depth=3</th>\n      <td>0.463845</td>\n    </tr>\n    <tr>\n      <th>RandomForest max_depth=4</th>\n      <td>0.449696</td>\n    </tr>\n    <tr>\n      <th>RandomForest max_depth=5</th>\n      <td>0.436304</td>\n    </tr>\n  </tbody>\n</table>\n</div>"
     },
     "execution_count": 38,
     "metadata": {},
     "output_type": "execute_result"
    }
   ],
   "source": [
    "\n",
    "models = []\n",
    "\n",
    "for i in range(2, 6):\n",
    "    models.append((\"RandomForest max_depth=\" + str(i), RandomForestRegressor(max_depth=i, random_state=0)))\n",
    "\n",
    "print_cross_val_results(models, X_train, y_train)"
   ],
   "metadata": {
    "collapsed": false,
    "pycharm": {
     "name": "#%%\n"
    }
   }
  },
  {
   "cell_type": "markdown",
   "source": [
    "**The best result we had for the max_depth hyper-parameter was 3, with an R2 score of 0.46.**\n",
    ".\n",
    "## Training the model"
   ],
   "metadata": {
    "collapsed": false,
    "pycharm": {
     "name": "#%% md\n"
    }
   }
  },
  {
   "cell_type": "code",
   "execution_count": 39,
   "outputs": [
    {
     "name": "stdout",
     "output_type": "stream",
     "text": [
      "R2 score on train data: 0.65%\n"
     ]
    }
   ],
   "source": [
    "model = RandomForestRegressor(max_depth=3, random_state=0)\n",
    "model.fit(X_train, y_train)\n",
    "print(\"R2 score on train data: \" + \"{:.2f}\".format(model.score(X_train, y_train)) + \"%\")"
   ],
   "metadata": {
    "collapsed": false,
    "pycharm": {
     "name": "#%%\n"
    }
   }
  },
  {
   "cell_type": "code",
   "execution_count": 40,
   "outputs": [
    {
     "name": "stdout",
     "output_type": "stream",
     "text": [
      "R2 score on test data: 0.31%\n"
     ]
    }
   ],
   "source": [
    "from sklearn.metrics import r2_score\n",
    "\n",
    "y_pred = model.predict(X_test)\n",
    "print(\"R2 score on test data: \" + \"{:.2f}\".format(r2_score(y_test, y_pred)) + \"%\")"
   ],
   "metadata": {
    "collapsed": false,
    "pycharm": {
     "name": "#%%\n"
    }
   }
  },
  {
   "cell_type": "code",
   "execution_count": 41,
   "outputs": [
    {
     "name": "stdout",
     "output_type": "stream",
     "text": [
      "MAE score on test data: 0.71\n",
      "MAPE score on test data: 0.29%\n"
     ]
    }
   ],
   "source": [
    "from sklearn.metrics import mean_absolute_error, mean_absolute_percentage_error\n",
    "print(\"MAE score on test data: \" + \"{:.2f}\".format(mean_absolute_error(y_test, y_pred)))\n",
    "print(\"MAPE score on test data: \" + \"{:.2f}\".format(mean_absolute_percentage_error(y_test, y_pred)) + \"%\")"
   ],
   "metadata": {
    "collapsed": false,
    "pycharm": {
     "name": "#%%\n"
    }
   }
  },
  {
   "cell_type": "markdown",
   "source": [
    "## Evaluating residuals"
   ],
   "metadata": {
    "collapsed": false,
    "pycharm": {
     "name": "#%% md\n"
    }
   }
  },
  {
   "cell_type": "code",
   "execution_count": 42,
   "outputs": [
    {
     "name": "stderr",
     "output_type": "stream",
     "text": [
      "C:\\Users\\bruno\\Code\\bsc\\data-science-midterm\\venv\\lib\\site-packages\\sklearn\\base.py:450: UserWarning: X does not have valid feature names, but RandomForestRegressor was fitted with feature names\n",
      "  warnings.warn(\n"
     ]
    },
    {
     "data": {
      "text/plain": "<Figure size 432x288 with 2 Axes>",
      "image/png": "[encoded data removed]"
     },
     "metadata": {
      "needs_background": "light"
     },
     "output_type": "display_data"
    },
    {
     "data": {
      "text/plain": "<AxesSubplot:title={'center':'Residuals for RandomForestRegressor Model'}, xlabel='Predicted Value', ylabel='Residuals'>"
     },
     "execution_count": 42,
     "metadata": {},
     "output_type": "execute_result"
    }
   ],
   "source": [
    "visualizer_residuals = ResidualsPlot(model)\n",
    "visualizer_residuals.fit(X_test, y_test)\n",
    "visualizer_residuals.show()"
   ],
   "metadata": {
    "collapsed": false,
    "pycharm": {
     "name": "#%%\n"
    }
   }
  },
  {
   "cell_type": "markdown",
   "source": [
    "## Feature importance"
   ],
   "metadata": {
    "collapsed": false,
    "pycharm": {
     "name": "#%% md\n"
    }
   }
  },
  {
   "cell_type": "code",
   "execution_count": 43,
   "outputs": [
    {
     "data": {
      "text/plain": "                   0\ntotal_bill  0.859626\nsize        0.094183\nsmoker      0.024162\nSat         0.008831\nsex         0.005878\nFri         0.002210\ntime        0.002174\nSun         0.002149\nThur        0.000787",
      "text/html": "<div>\n<style scoped>\n    .dataframe tbody tr th:only-of-type {\n        vertical-align: middle;\n    }\n\n    .dataframe tbody tr th {\n        vertical-align: top;\n    }\n\n    .dataframe thead th {\n        text-align: right;\n    }\n</style>\n<table border=\"1\" class=\"dataframe\">\n  <thead>\n    <tr style=\"text-align: right;\">\n      <th></th>\n      <th>0</th>\n    </tr>\n  </thead>\n  <tbody>\n    <tr>\n      <th>total_bill</th>\n      <td>0.859626</td>\n    </tr>\n    <tr>\n      <th>size</th>\n      <td>0.094183</td>\n    </tr>\n    <tr>\n      <th>smoker</th>\n      <td>0.024162</td>\n    </tr>\n    <tr>\n      <th>Sat</th>\n      <td>0.008831</td>\n    </tr>\n    <tr>\n      <th>sex</th>\n      <td>0.005878</td>\n    </tr>\n    <tr>\n      <th>Fri</th>\n      <td>0.002210</td>\n    </tr>\n    <tr>\n      <th>time</th>\n      <td>0.002174</td>\n    </tr>\n    <tr>\n      <th>Sun</th>\n      <td>0.002149</td>\n    </tr>\n    <tr>\n      <th>Thur</th>\n      <td>0.000787</td>\n    </tr>\n  </tbody>\n</table>\n</div>"
     },
     "execution_count": 43,
     "metadata": {},
     "output_type": "execute_result"
    }
   ],
   "source": [
    "pd.DataFrame(model.feature_importances_, index=X.columns).sort_values(0, ascending=False)"
   ],
   "metadata": {
    "collapsed": false,
    "pycharm": {
     "name": "#%%\n"
    }
   }
  },
  {
   "cell_type": "code",
   "execution_count": 44,
   "outputs": [
    {
     "data": {
      "text/plain": "<Figure size 432x288 with 1 Axes>",
      "image/png": "[encoded data removed]"
     },
     "metadata": {
      "needs_background": "light"
     },
     "output_type": "display_data"
    }
   ],
   "source": [
    "fig, ax = plt.subplots()\n",
    "forest_importances = pd.Series(model.feature_importances_, index=X.columns)\n",
    "std = np.std([tree.feature_importances_ for tree in model.estimators_], axis=0)\n",
    "forest_importances.plot.bar(yerr=std, ax=ax)\n",
    "ax.set_title(\"Feature importances using MDI\")\n",
    "ax.set_ylabel(\"Mean decrease in impurity\")\n",
    "fig.tight_layout()"
   ],
   "metadata": {
    "collapsed": false,
    "pycharm": {
     "name": "#%%\n"
    }
   }
  },
  {
   "cell_type": "markdown",
   "source": [
    "## Conclusions\n",
    "\n",
    "### Results of the ML model\n",
    "\n",
    "The final regression model gave us a R2 score of 0.31% when evaluated against the test data. Because it's in between the 0-1 range we conclude that this model is better than a horizontal hyperplane defined by the mean values.\n",
    "The MAE of 0.71 indicates that the average error of the model predictions is equal to 0.71 which is acceptable as the tip mean is equal to 3. Also, by looking the feature importance values we extracted from the model, we see that having the total_bill and the size columns as the most important variables fits the common sense.\n",
    "By analysing the residuals graph, we have the residuals' distribution with most of the mass around 0 which validates that our model is appropriate to represent the data.\n",
    "\n",
    "### Project evaluation and results\n",
    "\n",
    "The first step of the project was to understand the data we have at hand. Using statistical functions like the mean and standard deviation, we could understand the quantities we are dealing with. The \"tip\" density histogram served as an additional step in this understanding so that we could evaluate how the dependent variable \"tip\" behaves within the samples we are using.\n",
    "Then we use preprocessing methods to transform category variables into numerical values so we could use more quantitative tools at our disposal and have more data to train the Machine Learning model.\n",
    "We also analyzed how each variable relates to each other using the covariance algorithm. This analysis aims to identify whether we have independent variables that are actually dependent on each other and could negatively impact the training of the model. We could also get a sense of which variables are most strongly correlated with \"tip\" and check later in the final model if these variables really contribute the most, or we made some mistake along the way.\n",
    "Because we have means of objectively evaluating the outcome of models, we were able to test different models and compare the error. Even more, we could evaluate hyperparameters like \"depth\" in the random forest model in order to obtain the model parameters that could give us the best results in our dataset.\n",
    "Finally, we analysed the feature importance coeficients to understand what variable contributes most to change the tip.\n",
    "\n"
   ],
   "metadata": {
    "collapsed": false,
    "pycharm": {
     "name": "#%% md\n"
    }
   }
  },
  {
   "cell_type": "markdown",
   "source": [
    "## Reference\n",
    "[1] Bryant, P. G. and Smith, M (1995) Practical Data Analysis: Case Studies in Business Statistics. Homewood, IL: Richard D. Irwin Publishing\n",
    "[2] https://www.kaggle.com/datasets/aminizahra/tips-dataset"
   ],
   "metadata": {
    "collapsed": false,
    "pycharm": {
     "name": "#%% md\n"
    }
   }
  }
 ],
 "metadata": {
  "kernelspec": {
   "display_name": "Python 3",
   "language": "python",
   "name": "python3"
  },
  "language_info": {
   "codemirror_mode": {
    "name": "ipython",
    "version": 2
   },
   "file_extension": ".py",
   "mimetype": "text/x-python",
   "name": "python",
   "nbconvert_exporter": "python",
   "pygments_lexer": "ipython2",
   "version": "2.7.6"
  }
 },
 "nbformat": 4,
 "nbformat_minor": 0
}